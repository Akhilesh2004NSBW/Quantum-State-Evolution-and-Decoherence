{
 "cells": [
  {
   "cell_type": "markdown",
   "id": "8d203fcf-7904-4b0e-86b9-239d15b47b3d",
   "metadata": {},
   "source": [
    "# Quantum Simulation of Bell States with Noise Models and Interactive Visualization\n",
    "\n",
    "This notebook simulates a two-qubit quantum system, primarily a Bell state, under various noise models like phase noise, amplitude damping, depolarizing noise, bit flip, and phase flip. It computes probabilities, fidelity, and entanglement, visualizes results with plots and Bloch spheres, and allows interactive exploration via widgets.\n",
    "\n",
    "By: **Akhilesh Pant** (MCA)\n",
    "\n",
    "**Amrapali University**, Haldwani"
   ]
  },
  {
   "cell_type": "code",
   "execution_count": 1,
   "id": "8eca4858-388d-4e15-ac6c-ec7837151417",
   "metadata": {},
   "outputs": [
    {
     "data": {
      "application/vnd.jupyter.widget-view+json": {
       "model_id": "b91b708ff8db416783033c94dce9b85d",
       "version_major": 2,
       "version_minor": 0
      },
      "text/plain": [
       "Dropdown(description='Noise Type:', index=1, options=('None', 'Phase Noise', 'Amplitude Damping', 'Depolarizin…"
      ]
     },
     "metadata": {},
     "output_type": "display_data"
    },
    {
     "data": {
      "application/vnd.jupyter.widget-view+json": {
       "model_id": "76b6cc469f01487aafc1457ffa5d6af5",
       "version_major": 2,
       "version_minor": 0
      },
      "text/plain": [
       "FloatSlider(value=0.05, description='Gamma:', max=1.0, step=0.01)"
      ]
     },
     "metadata": {},
     "output_type": "display_data"
    },
    {
     "data": {
      "application/vnd.jupyter.widget-view+json": {
       "model_id": "8020d0ee25654ad6895fe2e2fd67c5b0",
       "version_major": 2,
       "version_minor": 0
      },
      "text/plain": [
       "FloatSlider(value=0.05, description='Probability p:', max=1.0, step=0.01)"
      ]
     },
     "metadata": {},
     "output_type": "display_data"
    },
    {
     "data": {
      "application/vnd.jupyter.widget-view+json": {
       "model_id": "c4e1260f6b624b66b93ea2ab9c1767c3",
       "version_major": 2,
       "version_minor": 0
      },
      "text/plain": [
       "IntSlider(value=50, description='Time Steps:', max=200, min=2)"
      ]
     },
     "metadata": {},
     "output_type": "display_data"
    },
    {
     "data": {
      "application/vnd.jupyter.widget-view+json": {
       "model_id": "4354ba367c344897a0a6173ae5c34dae",
       "version_major": 2,
       "version_minor": 0
      },
      "text/plain": [
       "IntSlider(value=1, description='Number of Runs:', max=20, min=1)"
      ]
     },
     "metadata": {},
     "output_type": "display_data"
    },
    {
     "data": {
      "application/vnd.jupyter.widget-view+json": {
       "model_id": "6bb331b971b548289bf9d50be39c21c7",
       "version_major": 2,
       "version_minor": 0
      },
      "text/plain": [
       "Button(button_style='success', description='Run Simulation', style=ButtonStyle())"
      ]
     },
     "metadata": {},
     "output_type": "display_data"
    },
    {
     "data": {
      "application/vnd.jupyter.widget-view+json": {
       "model_id": "0fcc00a3169b45eda3cb562c52821193",
       "version_major": 2,
       "version_minor": 0
      },
      "text/plain": [
       "Output()"
      ]
     },
     "metadata": {},
     "output_type": "display_data"
    }
   ],
   "source": [
    "# ===============================================\n",
    "# Quantum Simulation – Fully Interactive Notebook\n",
    "# ===============================================\n",
    "\n",
    "# -------------------------------\n",
    "# 1. Import Libraries\n",
    "# -------------------------------\n",
    "import numpy as np\n",
    "import pandas as pd\n",
    "import matplotlib.pyplot as plt\n",
    "from qutip import (basis, tensor, ket2dm, fidelity, concurrence,\n",
    "                   destroy, sigmax, sigmaz, qeye, mesolve, Bloch)\n",
    "import ipywidgets as widgets\n",
    "from IPython.display import display, clear_output\n",
    "\n",
    "# -------------------------------\n",
    "# 2. Qubit Definitions\n",
    "# -------------------------------\n",
    "def create_single_qubit(state=\"plus\"):\n",
    "    if state == \"zero\":\n",
    "        return basis(2,0)\n",
    "    elif state == \"one\":\n",
    "        return basis(2,1)\n",
    "    elif state == \"plus\":\n",
    "        return (basis(2,0) + basis(2,1)).unit()\n",
    "    elif state == \"minus\":\n",
    "        return (basis(2,0) - basis(2,1)).unit()\n",
    "\n",
    "def create_bell_pair():\n",
    "    q0 = basis(2,0)\n",
    "    q1 = basis(2,1)\n",
    "    return (tensor(q0,q0) + tensor(q1,q1)).unit()\n",
    "\n",
    "# -------------------------------\n",
    "# 3. Noise Models\n",
    "# -------------------------------\n",
    "def apply_phase_noise(rho, gamma=0.1, tlist=[0,1]):\n",
    "    sz1 = tensor(sigmaz(), qeye(2))\n",
    "    sz2 = tensor(qeye(2), sigmaz())\n",
    "    L = [gamma*sz1, gamma*sz2]\n",
    "    result = mesolve(H=0*rho, rho0=rho, tlist=tlist, c_ops=L)\n",
    "    return result.states[-1]\n",
    "\n",
    "def apply_amplitude_damping(rho, gamma=0.1, tlist=[0,1]):\n",
    "    c_ops = [gamma*tensor(destroy(2), qeye(2)), gamma*tensor(qeye(2), destroy(2))]\n",
    "    result = mesolve(H=0*rho, rho0=rho, tlist=tlist, c_ops=c_ops)\n",
    "    return result.states[-1]\n",
    "\n",
    "def apply_depolarizing_noise(rho, p=0.1):\n",
    "    I = qeye(2)\n",
    "    return (1-p)*rho + (p/4)*tensor(I,I)\n",
    "\n",
    "def apply_bit_flip(rho, p=0.1):\n",
    "    X = sigmax()\n",
    "    return (1-p)*rho + p*tensor(X,X)*rho*tensor(X,X)\n",
    "\n",
    "def apply_phase_flip(rho, p=0.1):\n",
    "    Z = sigmaz()\n",
    "    return (1-p)*rho + p*tensor(Z,Z)*rho*tensor(Z,Z)\n",
    "\n",
    "# -------------------------------\n",
    "# 4. Measurement Functions\n",
    "# -------------------------------\n",
    "def compute_probabilities(rho):\n",
    "    rho_q0 = rho.ptrace(0)\n",
    "    rho_q1 = rho.ptrace(1)\n",
    "    return {\n",
    "        \"q0_0\": (rho_q0*rho_q0.dag()).diag()[0].real,\n",
    "        \"q0_1\": (rho_q0*rho_q0.dag()).diag()[1].real,\n",
    "        \"q1_0\": (rho_q1*rho_q1.dag()).diag()[0].real,\n",
    "        \"q1_1\": (rho_q1*rho_q1.dag()).diag()[1].real\n",
    "    }\n",
    "\n",
    "def compute_fidelity(rho, rho_target):\n",
    "    return fidelity(rho, rho_target)\n",
    "\n",
    "def compute_entanglement(rho):\n",
    "    return concurrence(rho)\n",
    "\n",
    "# -------------------------------\n",
    "# 5. Simulation Function\n",
    "# -------------------------------\n",
    "def run_simulation(noise_type, gamma, p, t_steps, runs):\n",
    "    bell_state = create_bell_pair()\n",
    "    bell_density = ket2dm(bell_state)\n",
    "    tlist = np.linspace(0, t_steps, max(t_steps, 2))\n",
    "    \n",
    "    prob_results, fidelity_results, ent_results = [], [], []\n",
    "    \n",
    "    for _ in range(runs):\n",
    "        if noise_type == \"Phase Noise\":\n",
    "            rho = apply_phase_noise(bell_density, gamma=gamma, tlist=tlist)\n",
    "        elif noise_type == \"Amplitude Damping\":\n",
    "            rho = apply_amplitude_damping(bell_density, gamma=gamma, tlist=tlist)\n",
    "        elif noise_type == \"Depolarizing Noise\":\n",
    "            rho = apply_depolarizing_noise(bell_density, p=p)\n",
    "        elif noise_type == \"Bit Flip\":\n",
    "            rho = apply_bit_flip(bell_density, p=p)\n",
    "        elif noise_type == \"Phase Flip\":\n",
    "            rho = apply_phase_flip(bell_density, p=p)\n",
    "        else:\n",
    "            rho = bell_density\n",
    "        \n",
    "        prob_results.append(compute_probabilities(rho))\n",
    "        fidelity_results.append(compute_fidelity(rho, bell_density))\n",
    "        ent_results.append(compute_entanglement(rho))\n",
    "    \n",
    "    avg_prob = {k: np.mean([r[k] for r in prob_results]) for k in prob_results[0]}\n",
    "    avg_fidelity = np.mean(fidelity_results)\n",
    "    avg_ent = np.mean(ent_results)\n",
    "    \n",
    "    return avg_prob, avg_fidelity, avg_ent\n",
    "\n",
    "# -------------------------------\n",
    "# 6. Plot Functions\n",
    "# -------------------------------\n",
    "def plot_probabilities(prob_dict):\n",
    "    plt.figure(figsize=(6,4))\n",
    "    plt.bar(prob_dict.keys(), prob_dict.values(), color='skyblue')\n",
    "    plt.ylabel(\"Probability\")\n",
    "    plt.title(\"Qubit Probabilities\")\n",
    "    plt.show()\n",
    "\n",
    "def plot_entanglement(ent):\n",
    "    plt.figure(figsize=(4,3))\n",
    "    plt.bar([\"Entanglement\"], [ent], color='orange')\n",
    "    plt.ylabel(\"Concurrence\")\n",
    "    plt.title(\"Entanglement\")\n",
    "    plt.show()\n",
    "\n",
    "def plot_fidelity(f):\n",
    "    plt.figure(figsize=(4,3))\n",
    "    plt.bar([\"Fidelity\"], [f], color='green')\n",
    "    plt.ylabel(\"Fidelity\")\n",
    "    plt.title(\"Fidelity vs Original Bell State\")\n",
    "    plt.show()\n",
    "\n",
    "def show_bloch():\n",
    "    b = Bloch()\n",
    "    single_qubit = create_single_qubit(\"plus\")\n",
    "    b.add_states([single_qubit])\n",
    "    b.render()  # <- Works inline in Jupyter\n",
    "\n",
    "# -------------------------------\n",
    "# 7. Widgets Interface\n",
    "# -------------------------------\n",
    "noise_dropdown = widgets.Dropdown(\n",
    "    options=['None', 'Phase Noise', 'Amplitude Damping', 'Depolarizing Noise', 'Bit Flip', 'Phase Flip'],\n",
    "    value='Phase Noise',\n",
    "    description='Noise Type:',\n",
    ")\n",
    "\n",
    "gamma_slider = widgets.FloatSlider(\n",
    "    value=0.05,\n",
    "    min=0.0,\n",
    "    max=1.0,\n",
    "    step=0.01,\n",
    "    description='Gamma:',\n",
    ")\n",
    "\n",
    "p_slider = widgets.FloatSlider(\n",
    "    value=0.05,\n",
    "    min=0.0,\n",
    "    max=1.0,\n",
    "    step=0.01,\n",
    "    description='Probability p:',\n",
    ")\n",
    "\n",
    "time_steps_slider = widgets.IntSlider(\n",
    "    value=50,\n",
    "    min=2,\n",
    "    max=200,\n",
    "    step=1,\n",
    "    description='Time Steps:',\n",
    ")\n",
    "\n",
    "runs_slider = widgets.IntSlider(\n",
    "    value=1,\n",
    "    min=1,\n",
    "    max=20,\n",
    "    step=1,\n",
    "    description='Number of Runs:',\n",
    ")\n",
    "\n",
    "run_button = widgets.Button(description=\"Run Simulation\", button_style='success')\n",
    "output = widgets.Output()\n",
    "\n",
    "def on_button_clicked(b):\n",
    "    with output:\n",
    "        clear_output(wait=True)\n",
    "        noise_type = noise_dropdown.value\n",
    "        gamma = gamma_slider.value\n",
    "        p = p_slider.value\n",
    "        t_steps = time_steps_slider.value\n",
    "        runs = runs_slider.value\n",
    "        \n",
    "        avg_prob, avg_fidelity, avg_ent = run_simulation(noise_type, gamma, p, t_steps, runs)\n",
    "        \n",
    "        print(f\"Simulation Results for {noise_type}:\")\n",
    "        print(f\"Average Probabilities: {avg_prob}\")\n",
    "        print(f\"Average Fidelity: {avg_fidelity:.4f}\")\n",
    "        print(f\"Average Entanglement: {avg_ent:.4f}\")\n",
    "        \n",
    "        plot_probabilities(avg_prob)\n",
    "        plot_fidelity(avg_fidelity)\n",
    "        plot_entanglement(avg_ent)\n",
    "        show_bloch()\n",
    "\n",
    "run_button.on_click(on_button_clicked)\n",
    "\n",
    "display(noise_dropdown, gamma_slider, p_slider, time_steps_slider, runs_slider, run_button, output)\n"
   ]
  }
 ],
 "metadata": {
  "kernelspec": {
   "display_name": "Python [conda env:base] *",
   "language": "python",
   "name": "conda-base-py"
  },
  "language_info": {
   "codemirror_mode": {
    "name": "ipython",
    "version": 3
   },
   "file_extension": ".py",
   "mimetype": "text/x-python",
   "name": "python",
   "nbconvert_exporter": "python",
   "pygments_lexer": "ipython3",
   "version": "3.12.7"
  }
 },
 "nbformat": 4,
 "nbformat_minor": 5
}
